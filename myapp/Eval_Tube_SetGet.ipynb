{
 "cells": [
  {
   "cell_type": "markdown",
   "metadata": {},
   "source": [
    "# Imports"
   ]
  },
  {
   "cell_type": "code",
   "execution_count": 1,
   "metadata": {},
   "outputs": [
    {
     "name": "stdout",
     "output_type": "stream",
     "text": [
      "HV set to 0. Ok.\n",
      "Filament current set to 0uA -> 0. Ok.\n"
     ]
    }
   ],
   "source": [
    "import matplotlib.pyplot as plt\n",
    "from time import sleep\n",
    "from thetube import Tube\n",
    "tube = Tube()"
   ]
  },
  {
   "cell_type": "code",
   "execution_count": null,
   "metadata": {},
   "outputs": [],
   "source": [
    "testvals = (val for val in [0, 1023, 2047, 3071, 4095])\n",
    "tube.setVal(0,0)\n",
    "tube.setVal(0,1)\n",
    "tube.disable()"
   ]
  },
  {
   "cell_type": "markdown",
   "metadata": {},
   "source": [
    "# Testing HV Set Points\n",
    "\n",
    "Re-run below cell to until *End reached*."
   ]
  },
  {
   "cell_type": "code",
   "execution_count": null,
   "metadata": {},
   "outputs": [],
   "source": [
    "channel = 0\n",
    "try:\n",
    "    testval = next(testvals)\n",
    "    tube.enable()\n",
    "    tube.setVal(testval, channel)\n",
    "    print(testval)\n",
    "    sleep(.8)\n",
    "\n",
    "    readings = []\n",
    "    for _ in range(10):\n",
    "        raw, _ = tube.read(channel)\n",
    "        readings.append(raw)\n",
    "        sleep(.5)\n",
    "    reading = sum(readings)/len(readings)\n",
    "    print(reading)\n",
    "except StopIteration:\n",
    "    tube.disable()\n",
    "    del(testvals)\n",
    "    print(\"End reached.\")"
   ]
  },
  {
   "cell_type": "markdown",
   "metadata": {},
   "source": [
    "Tabulated results for kV test.\n",
    "\n",
    "| Set Val | kV | Get Val |\n",
    "| --- | --- | --- |\n",
    "| 0    | 0    | 3.8 |\n",
    "| 1023 | 17.5 | 958.5 |\n",
    "| 2047 | 35.0 | 1907.6 |\n",
    "| 3071 | 52.5 | 2877.6 |\n",
    "| 4095 | 70   | 3847.1 |"
   ]
  },
  {
   "cell_type": "code",
   "execution_count": null,
   "metadata": {},
   "outputs": [],
   "source": [
    "kVVals = [0, 17.5, 35.0, 52.5, 70.0]\n",
    "kVgetVals = [3.8, 958.5, 1907.6, 2877.6, 3847.1]\n",
    "\n",
    "fig, (kV, get) = plt.subplots(1,2, figsize=(8,4))\n",
    "kV.plot([0, 1023, 2047, 3071, 4095], kVVals)\n",
    "kV.set(xlabel=\"Set points\", ylabel=\"kV\")\n",
    "kV.grid()\n",
    "get.plot([0, 1023, 2047, 3071, 4095], kVgetVals)\n",
    "get.set(xlabel=\"Set points\", ylabel=\"Readings\")\n",
    "get.grid()\n",
    "plt.tight_layout()\n",
    "plt.show()"
   ]
  },
  {
   "cell_type": "markdown",
   "metadata": {},
   "source": [
    "# Testing Filament Current Set Points\n",
    "\n",
    "Re-run below cell until *End reached*."
   ]
  },
  {
   "cell_type": "code",
   "execution_count": null,
   "metadata": {},
   "outputs": [],
   "source": [
    "tube.enable()"
   ]
  },
  {
   "cell_type": "code",
   "execution_count": null,
   "metadata": {},
   "outputs": [],
   "source": [
    "tube.disable()"
   ]
  },
  {
   "cell_type": "code",
   "execution_count": null,
   "metadata": {},
   "outputs": [],
   "source": [
    "testvals = (val for val in [0, 1023, 2047, 3071, 3500, 3800, 3900])"
   ]
  },
  {
   "cell_type": "code",
   "execution_count": null,
   "metadata": {},
   "outputs": [],
   "source": [
    "tube.setHV(20)\n",
    "tube.setI(next(testvals))\n",
    "sleep(1)\n",
    "print(tube.read(0), tube.read(1))\n",
    "\n",
    "# tube.disable()\n",
    "# tube.enable()"
   ]
  },
  {
   "cell_type": "code",
   "execution_count": null,
   "metadata": {},
   "outputs": [],
   "source": [
    "channel = 1\n",
    "tube.setHV(5)\n",
    "tube.setI(0)\n",
    "tube.enable()\n",
    "try:\n",
    "    testval = next(testvals)\n",
    "    tube.setVal(testval, channel)\n",
    "    print(testval)\n",
    "    # tube.enable()\n",
    "    readings = []\n",
    "    for _ in range(10):\n",
    "        raw, _ = tube.read(channel)\n",
    "        readings.append(raw)\n",
    "        sleep(1)\n",
    "    reading = sum(readings)/len(readings)\n",
    "    print(reading)\n",
    "except StopIteration:\n",
    "    tube.disable()\n",
    "    del(testvals)\n",
    "    print(\"End reached.\")"
   ]
  },
  {
   "cell_type": "markdown",
   "metadata": {},
   "source": [
    "Tabulated results for Filament Current test.\n",
    "\n",
    "| Set Val | uA | Get Val |\n",
    "| --: | --:    | --:    |\n",
    "| 0      | 0      | 0    |\n",
    "| 1023   | 288.6  | 858.9  |\n",
    "| 2047   | 579.0  | 1818.8 |\n",
    "| 3071   | 869.5  | 2775.4 |\n",
    "| 3500   | 990.0  | 3231.8 |\n",
    "| 3800   | 1075.1 | 3528.9 |\n",
    "| 3900   | 1100.0 | 3609.7 |"
   ]
  },
  {
   "cell_type": "code",
   "execution_count": null,
   "metadata": {},
   "outputs": [],
   "source": [
    "setVals = [0, 1023, 2047, 3071, 3500, 3800, 3900]\n",
    "uAVals = [0, 288.6, 579.0, 869.5, 990, 1075.1, 1100]\n",
    "uAgetVals = [0, 858.9, 1818.8, 2775.4, 3231.8, 3528.9, 3609.7]\n",
    "\n",
    "fig, (uA, get) = plt.subplots(1,2, figsize=(8,4))\n",
    "fig.suptitle(\"Filament Current Set Points and Readings @ 5kV\")\n",
    "uA.plot(setVals, uAVals)\n",
    "uA.scatter(setVals, uAVals)\n",
    "uA.set(xlabel=\"Set points\", ylabel=\"uA\")\n",
    "uA.grid()\n",
    "get.plot(setVals, uAgetVals)\n",
    "get.scatter(setVals, uAgetVals)\n",
    "get.set(xlabel=\"Set points\", ylabel=\"Readings\")\n",
    "get.grid()\n",
    "plt.tight_layout()\n",
    "plt.show()"
   ]
  },
  {
   "cell_type": "code",
   "execution_count": 2,
   "metadata": {},
   "outputs": [
    {
     "name": "stdout",
     "output_type": "stream",
     "text": [
      "HV set to 20 -> 1170. Ok.\n",
      "Filament current set to 50uA -> 176. Ok.\n"
     ]
    }
   ],
   "source": [
    "channel = 1\n",
    "tube.setHV(20)\n",
    "tube.setI(50)\n",
    "tube.enable()\n",
    "# try:\n",
    "#     testval = next(testvals)\n",
    "#     tube.setVal(testval, channel)\n",
    "#     print(testval)\n",
    "#     # tube.enable()\n",
    "#     readings = []\n",
    "#     for _ in range(10):\n",
    "#         raw, _ = tube.read(channel)\n",
    "#         readings.append(raw)\n",
    "#         sleep(1)\n",
    "#     reading = sum(readings)/len(readings)\n",
    "#     print(reading)\n",
    "# except StopIteration:\n",
    "#     tube.disable()\n",
    "#     del(testvals)\n",
    "#     print(\"End reached.\")"
   ]
  },
  {
   "cell_type": "markdown",
   "metadata": {},
   "source": [
    "Tabulated results for Filament Current test @ 20kV.\n",
    "\n",
    "| Set Val | uA | Get Val |\n",
    "| --: | --:    | --:    |\n",
    "| 0      | 0      | 0    |\n",
    "| 1023   | 288.6  | 858.9  |\n",
    "| 2047   | 579.0  | 1818.8 |\n",
    "| 3071   | 869.5  | 2775.4 |\n",
    "| 3500   | 990.0  | 3231.8 |\n",
    "| 3800   | 1075.1 | 3528.9 |\n",
    "| 3900   | 1100.0 | 3609.7 |"
   ]
  },
  {
   "cell_type": "code",
   "execution_count": null,
   "metadata": {},
   "outputs": [],
   "source": [
    "setVals = [0, 1023, 2047, 3071, 3500, 3800, 3900]\n",
    "uAVals = [0, 288.6, 579.0, 869.5, 990, 1075.1, 1100]\n",
    "uAgetVals = [0, 858.9, 1818.8, 2775.4, 3231.8, 3528.9, 3609.7]\n",
    "\n",
    "fig, (uA, get) = plt.subplots(1,2, figsize=(8,4))\n",
    "fig.suptitle(\"Filament Current Set Points and Readings @ 5kV\")\n",
    "uA.plot(setVals, uAVals)\n",
    "uA.scatter(setVals, uAVals)\n",
    "uA.set(xlabel=\"Set points\", ylabel=\"uA\")\n",
    "uA.grid()\n",
    "get.plot(setVals, uAgetVals)\n",
    "get.scatter(setVals, uAgetVals)\n",
    "get.set(xlabel=\"Set points\", ylabel=\"Readings\")\n",
    "get.grid()\n",
    "plt.tight_layout()\n",
    "plt.show()"
   ]
  }
 ],
 "metadata": {
  "kernelspec": {
   "display_name": "xmagix",
   "language": "python",
   "name": "python3"
  },
  "language_info": {
   "codemirror_mode": {
    "name": "ipython",
    "version": 3
   },
   "file_extension": ".py",
   "mimetype": "text/x-python",
   "name": "python",
   "nbconvert_exporter": "python",
   "pygments_lexer": "ipython3",
   "version": "3.9.18"
  },
  "orig_nbformat": 4
 },
 "nbformat": 4,
 "nbformat_minor": 2
}
