{
 "cells": [
  {
   "cell_type": "markdown",
   "metadata": {},
   "source": [
    "# XMAGIX\n",
    "\n",
    "- [1. Loading Library, Configuration Files and Other Stuff](#1.-Loading-Library,-Configuration-Files-and-Other-Stuff)\n",
    "- [2. Starting System and Initializing Parameters](#2.-Starting-System-and-Initializing-Parameters)\n",
    "- [3. Setting and Getting Parameters](#3.-Setting-and-Getting-Parameters)\n",
    "  - [3.1. Get all currently set acquisition values.](#3.1.-Get-all-currently-set-acquisition-values.)\n",
    "  - [3.2. Get available peaking times](#3.2.-Get-available-peaking-times)\n",
    "  - [3.3. Setting Peaking Time, Bin Width and MCA-Channels](#3.3.-Setting-Peaking-Time,-Bin-Width-and-MCA-Channels)\n",
    "  - [3.4. Setting Thresholds](#3.4.-Setting-Thresholds)\n",
    "  - [3.5. Setting Gain](#3.5.-Setting-Gain)\n",
    "- [4. Starting and Stopping a Run](#4.-Starting-and-Stopping-a-Run)\n",
    "- [5. Pull Data and Plot](#5.-Pull-Data-and-Plot)"
   ]
  },
  {
   "cell_type": "markdown",
   "metadata": {},
   "source": [
    "# 1. Loading Library, Configuration Files and Other Stuff\n",
    "[&#x2B06;](#XMAGIX)"
   ]
  },
  {
   "cell_type": "code",
   "execution_count": null,
   "metadata": {},
   "outputs": [],
   "source": [
    "import os\n",
    "from ctypes import *\n",
    "import ipywidgets as widgets\n",
    "from IPython.display import display\n",
    "from IPython.core.display import SVG\n",
    "from rich.jupyter import print\n",
    "import matplotlib.pyplot as plt\n",
    "%config InlineBackend.figure_format = \"svg\" # crisper plots\n",
    "import numpy as np\n",
    "import pandas as pd\n",
    "import lmfit as lm\n",
    "\n",
    "from xmagix import XMagix\n",
    "from thestepper import *\n",
    "\n",
    "cwd = os.getcwd()\n",
    "xmagix = XMagix(\"lib/libhandel.so\")\n",
    "inifile = cwd + \"/microdxp_usb2.ini\"\n",
    "configfile = cwd + \"/config.ini\""
   ]
  },
  {
   "cell_type": "code",
   "execution_count": null,
   "metadata": {},
   "outputs": [],
   "source": [
    "!~/klippy-env/bin/python ~/klipper/klippy/klippy.py ~/printer_data/config/printer.cfg -a /tmp/klippy_uds -l /tmp/klippy.log"
   ]
  },
  {
   "cell_type": "code",
   "execution_count": null,
   "metadata": {},
   "outputs": [],
   "source": [
    "mdpins = [21, 20, 16]\n",
    "mdpins.reverse()\n",
    "detector_stepper = MyStepper(13, 19, mdpins, driver=\"A4988\", enpin=26, steps_per_rev=200, gear_ratio=6.25, ustep=0)"
   ]
  },
  {
   "cell_type": "code",
   "execution_count": null,
   "metadata": {},
   "outputs": [],
   "source": [
    "detector_stepper.setMotorEnable(enable=True)"
   ]
  },
  {
   "cell_type": "code",
   "execution_count": null,
   "metadata": {},
   "outputs": [],
   "source": [
    "detector_stepper.setMotorEnable(enable=False)"
   ]
  },
  {
   "cell_type": "code",
   "execution_count": null,
   "metadata": {},
   "outputs": [],
   "source": [
    "detector_stepper.setMicroStepping(4)"
   ]
  },
  {
   "cell_type": "code",
   "execution_count": null,
   "metadata": {},
   "outputs": [],
   "source": [
    "detector_stepper.cwMotion(1666, 20)\n",
    "detector_stepper.ccMotion(1666, 20)"
   ]
  },
  {
   "cell_type": "code",
   "execution_count": null,
   "metadata": {},
   "outputs": [],
   "source": [
    "detector_stepper.cwMotionAngle(30, 20)\n",
    "detector_stepper.ccMotionAngle(30, 20)"
   ]
  },
  {
   "cell_type": "markdown",
   "metadata": {},
   "source": [
    "# 2. Starting System and Initializing Parameters\n",
    "[&#x2B06;](#XMAGIX)"
   ]
  },
  {
   "cell_type": "markdown",
   "metadata": {},
   "source": [
    "Available Log Levels:\n",
    "```\n",
    "1:  MD_ERROR\n",
    "2:  MD_WARNING\n",
    "3:  MD_INFO\n",
    "4:  MD_DEBUG\n",
    "```"
   ]
  },
  {
   "cell_type": "code",
   "execution_count": null,
   "metadata": {},
   "outputs": [],
   "source": [
    "xmagix.setLogging(4)\n",
    "xmagix.exit()\n",
    "xmagix.init(inifile)\n",
    "xmagix.startSystem()"
   ]
  },
  {
   "cell_type": "markdown",
   "metadata": {},
   "source": [
    "# 3. Setting and Getting Parameters\n",
    "[&#x2B06;](#XMAGIX)"
   ]
  },
  {
   "cell_type": "markdown",
   "metadata": {},
   "source": [
    "## 3.1. Get all currently set acquisition values.\n",
    "[&#x2B06;](#XMAGIX)"
   ]
  },
  {
   "cell_type": "code",
   "execution_count": null,
   "metadata": {},
   "outputs": [],
   "source": [
    "values = xmagix.getAcquisitionValues(name=\"all\")\n",
    "values = pd.DataFrame(values.items(), columns=[\"Parameter\", \"Value\"])\n",
    "print(values.sort_values(by=[\"Parameter\"]))"
   ]
  },
  {
   "cell_type": "markdown",
   "metadata": {},
   "source": [
    "## 3.2. Get available peaking times\n",
    "[&#x2B06;](#XMAGIX)"
   ]
  },
  {
   "cell_type": "code",
   "execution_count": null,
   "metadata": {},
   "outputs": [],
   "source": [
    "ccurrentPeakingTimes = xmagix.getNumberOfPeakingTimes()\n",
    "currentPeakingTimes = np.ctypeslib.as_array(ccurrentPeakingTimes)"
   ]
  },
  {
   "cell_type": "markdown",
   "metadata": {},
   "source": [
    "## 3.3. Setting Peaking Time, Bin Width and MCA-Channels\n",
    "[&#x2B06;](#XMAGIX)"
   ]
  },
  {
   "cell_type": "code",
   "execution_count": null,
   "metadata": {},
   "outputs": [],
   "source": [
    "idict = {\"manual\": True, \"manual_name\":\"Set\"}\n",
    "pt = widgets.interactive(xmagix.setAcquisitionValues, idict, name=widgets.fixed(\"parset\"), value=widgets.Dropdown(options=currentPeakingTimes.round(2).tolist(), value=2.4, description=\"Peaking Time\"))\n",
    "bw = widgets.interactive(xmagix.setAcquisitionValues, idict, name=widgets.fixed(\"mca_bin_width\"), value=widgets.FloatText(value=1, description=\"Bin Width\"))\n",
    "nMCA = widgets.interactive(xmagix.setAcquisitionValues, idict, name=widgets.fixed(\"number_mca_channels\"), value=widgets.FloatText(value=8192, description=\"No. MCA\"))\n",
    "ui1 = widgets.HBox([pt, bw, nMCA])\n",
    "ui1"
   ]
  },
  {
   "cell_type": "markdown",
   "metadata": {},
   "source": [
    "## 3.4. Setting Thresholds\n",
    "[&#x2B06;](#XMAGIX)"
   ]
  },
  {
   "cell_type": "markdown",
   "metadata": {},
   "source": [
    "* Trigger: 0-4095\n",
    "* Baseline: 0-4095\n",
    "* Energy: 0-4095"
   ]
  },
  {
   "cell_type": "code",
   "execution_count": null,
   "metadata": {},
   "outputs": [],
   "source": [
    "th_trigger = widgets.interactive(xmagix.setAcquisitionValues, idict, name=widgets.fixed(\"trigger_threshold\"), value=widgets.FloatText(value=150, description=\"Trigger Thr.\"))\n",
    "th_baseline = widgets.interactive(xmagix.setAcquisitionValues, idict, name=widgets.fixed(\"baseline_threshold\"), value=widgets.FloatText(value=120, description=\"Baseline Thr.\"))\n",
    "th_energy = widgets.interactive(xmagix.setAcquisitionValues, idict, name=widgets.fixed(\"energy_threshold\"), value=widgets.FloatText(value=0, description=\"Energy Thr.\"))\n",
    "ui2 = widgets.HBox([th_trigger, th_baseline, th_energy])\n",
    "ui2"
   ]
  },
  {
   "cell_type": "markdown",
   "metadata": {},
   "source": [
    "## 3.5. Setting Gain\n",
    "[&#x2B06;](#XMAGIX)"
   ]
  },
  {
   "cell_type": "markdown",
   "metadata": {},
   "source": [
    "$Base Gain = \\frac{1184}{DynRange[keV] \\cdot Preamp Gain [\\frac{mV}{keV}]}$"
   ]
  },
  {
   "cell_type": "markdown",
   "metadata": {},
   "source": [
    "* Gain: 1-100 (4.4994)\n",
    "* Gain Trim: 0.5-2.0 (-1)\n",
    "* Gap Time: (0.3)"
   ]
  },
  {
   "cell_type": "code",
   "execution_count": null,
   "metadata": {},
   "outputs": [],
   "source": [
    "gain = widgets.interactive(xmagix.setAcquisitionValues, idict, name=widgets.fixed(\"gain\"), value=widgets.FloatText(value=4.4994, description=\"Gain\"))\n",
    "gain_trim = widgets.interactive(xmagix.setAcquisitionValues, idict, name=widgets.fixed(\"gain_trim\"), value=widgets.FloatText(value=1, description=\"Gain Trim\"))\n",
    "gap_time = widgets.interactive(xmagix.setAcquisitionValues, idict, name=widgets.fixed(\"trigger_gap_time\"), value=widgets.FloatText(value=.3, description=\"Gap Time\"))\n",
    "ui3 = widgets.HBox([gain, gain_trim, gap_time])\n",
    "ui3"
   ]
  },
  {
   "cell_type": "markdown",
   "metadata": {},
   "source": [
    "# 4. Starting and Stopping a Run\n",
    "[&#x2B06;](#XMAGIX)"
   ]
  },
  {
   "cell_type": "code",
   "execution_count": null,
   "metadata": {},
   "outputs": [],
   "source": [
    "#out = widgets.Output(layout={'border': '1px solid black'})\n",
    "frt = widgets.interactive(xmagix.fixedRealtimeRun, {\"manual\": True, \"manual_name\": \"Run\"}, realtime=widgets.IntText(value=30, description=\"Time\"), clearMca=widgets.Checkbox(value=True, name=\"Clear MCA\"))\n",
    "foc = widgets.interactive(xmagix.fixedEventsRun, {\"manual\": True, \"manual_name\": \"Run\", \"enabled\": False}, counts=widgets.IntText(value=10000, description=\"Counts\"), clearMca=widgets.Checkbox(value=True, name=\"Clear MCA\"))\n",
    "sr = widgets.interactive(xmagix.stopRun, {\"manual\": True, \"manual_name\": \"Stop Run\"}, stopmessage=widgets.fixed(\"Stopped\"))\n",
    "ui4 = widgets.HBox([frt, foc, sr])\n",
    "ui4"
   ]
  },
  {
   "cell_type": "code",
   "execution_count": null,
   "metadata": {},
   "outputs": [],
   "source": [
    "xmagix.stopRun()"
   ]
  },
  {
   "cell_type": "markdown",
   "metadata": {},
   "source": [
    "# 5. Pull Data and Plot\n",
    "[&#x2B06;](#XMAGIX)"
   ]
  },
  {
   "cell_type": "code",
   "execution_count": null,
   "metadata": {},
   "outputs": [],
   "source": [
    "cmca = xmagix.pullMcaData()\n",
    "mca = np.ctypeslib.as_array(cmca)"
   ]
  },
  {
   "cell_type": "code",
   "execution_count": null,
   "metadata": {},
   "outputs": [],
   "source": [
    "# Nightowl mode\n",
    "plt.style.use(\"default\")\n",
    "plt.style.use(\"dark_background\")\n",
    "cm = 1/2.54 # inch to cm, metric like brrr\n",
    "size = 60\n",
    "\n",
    "titles = [f\"nMCA {len(mca)}\", \"Bins\", \"Counts\"]\n",
    "fig, ax = plt.subplots(1, 1, figsize=(40*cm, 25*(9/16)*cm))\n",
    "ax.set(\n",
    "    # xlim=(-0.01*len(mca), 1.01*len(mca)), ylim=(-0.01*np.max(mca), 1.01 * np.max(mca)),\n",
    "    xlabel=titles[1], ylabel=titles[2])\n",
    "    # xticks=[0, len(mca)], yticks=[0, np.max(mca)],)\n",
    "ax.set_yscale(\"log\")\n",
    "x = np.arange(0, len(mca), 1)\n",
    "y = np.vstack([mca])\n",
    "ax.stackplot(x, y, labels=[\"Empty\"])\n",
    "ax.legend()\n",
    "plt.tight_layout()\n",
    "\n",
    "if not os.path.exists(\"./tmp/\"):\n",
    "    os.makedirs(\"./tmp/\") \n",
    "plt.savefig(\"./tmp/plot.svg\")\n",
    "plt.savefig(\"./tmp/plot.png\")\n",
    "SVG(\"./tmp/plot.svg\")"
   ]
  },
  {
   "cell_type": "code",
   "execution_count": null,
   "metadata": {},
   "outputs": [],
   "source": [
    "# Nightowl mode\n",
    "plt.style.use(\"default\")\n",
    "plt.style.use(\"dark_background\")\n",
    "cm = 1/2.54 # inch to cm, metric like brrr\n",
    "size = 60\n",
    "\n",
    "titles = [f\"nMCA {len(mca)}\", \"Bins\", \"Counts\"]\n",
    "fig, ax = plt.subplots(1, 1, figsize=(40*cm, 25*(9/16)*cm))\n",
    "ax.set(\n",
    "    # xlim=(-0.01*len(mca), 1.01*len(mca)), ylim=(-0.01*np.max(mca), 1.01 * np.max(mca)),\n",
    "    xlabel=titles[1], ylabel=titles[2],\n",
    "    # xticks=[0, len(mca)], yticks=[0, np.max(mca)],\n",
    "    title=titles[0])\n",
    "x = np.arange(0, len(mca), 1)\n",
    "ax.set_yscale(\"log\")\n",
    "ax.plot(x, mca, linewidth=.5)\n",
    "plt.tight_layout()\n",
    "\n",
    "if not os.path.exists(\"./tmp/\"):\n",
    "    os.makedirs(\"./tmp/\") \n",
    "plt.savefig(\"./tmp/plot.svg\")\n",
    "plt.savefig(\"./tmp/plot.png\")\n",
    "SVG(\"./tmp/plot.svg\")"
   ]
  },
  {
   "cell_type": "code",
   "execution_count": null,
   "metadata": {},
   "outputs": [],
   "source": [
    "csvPath = input()\n",
    "# csvPath = \"Pb_XRF\"\n",
    "if not os.path.exists(f\"./{csvPath}\"):\n",
    "    os.makedirs(f\"./{csvPath}\")\n",
    "os.rename(\"./tmp/plot.svg\", f\"./{csvPath}/{csvPath}.svg\")\n",
    "os.rename(\"./tmp/plot.png\", f\"./{csvPath}/{csvPath}.png\")\n",
    "with open(f\"./{csvPath}/{csvPath}.csv\", \"x\") as f:\n",
    "    values.to_csv(f, sep=\";\", index=False)\n",
    "    mcapd = pd.DataFrame(mca)\n",
    "    f.write(\"BEGIN_OF_DATA\")\n",
    "    mcapd.to_csv(f, sep=\";\")\n",
    "    f.write(\"END_OF_DATA\")"
   ]
  },
  {
   "cell_type": "code",
   "execution_count": null,
   "metadata": {},
   "outputs": [],
   "source": [
    "plt.style.use(\"default\")\n",
    "plt.style.use(\"dark_background\")\n",
    "fig, ax = plt.subplots(1,1)\n",
    "\n",
    "print(help(ax))"
   ]
  }
 ],
 "metadata": {
  "kernelspec": {
   "display_name": "xmagix",
   "language": "python",
   "name": "python3"
  },
  "language_info": {
   "codemirror_mode": {
    "name": "ipython",
    "version": 3
   },
   "file_extension": ".py",
   "mimetype": "text/x-python",
   "name": "python",
   "nbconvert_exporter": "python",
   "pygments_lexer": "ipython3",
   "version": "3.9.16"
  }
 },
 "nbformat": 4,
 "nbformat_minor": 4
}
