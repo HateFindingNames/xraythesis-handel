{
 "cells": [
  {
   "cell_type": "markdown",
   "metadata": {},
   "source": [
    "# XMAGIX\n",
    "\n",
    "1. [Loading Library, Configuration Files and Other Stuff](#load)\n",
    "2. [Starting System and Initializing Parameters](#init)\n",
    "3. [Setting and Getting Parameters](#setget)\n",
    "    * [Get all currently set acquisition values and board information](#getvals)\n",
    "        * [Board Information](#boardinfo)\n",
    "        * [Acquisition values](#getacquisition)\n",
    "        * [Set Acquisition Values](#setacquisition)\n",
    "    * [Widgets](#widgets)\n",
    "        * [Peaking Time, Bin Width and MCA-Channels](#peaking)\n",
    "        * [Thresholds](#thresh)\n",
    "        * [Gain](#gain)\n",
    "4. [X-Ray Source Control](#source)\n",
    "    * [Setting HV and Filament Current](#write)\n",
    "    * [Reading back HV and Filament Current](#read)\n",
    "    * [Enable/Disable](#enabledisable)\n",
    "5. [Starting and Stopping a Run](#startstop)\n",
    "    * [Pick preset type](#pick)\n",
    "    * [Fixed Realtime Run](#fixed)\n",
    "6. [Pull Data and Plot](#pull)\n",
    "    * [Happy with your Spectrum?](#happy)"
   ]
  },
  {
   "cell_type": "markdown",
   "metadata": {},
   "source": [
    "☝️ Click [🔝](#XMAGIX) to jump back to the top."
   ]
  },
  {
   "cell_type": "markdown",
   "metadata": {},
   "source": [
    "# Loading Library, Configuration Files and Other Stuff [🔝](#XMAGIX) <a id=\"load\"></a>"
   ]
  },
  {
   "cell_type": "code",
   "execution_count": null,
   "metadata": {},
   "outputs": [],
   "source": [
    "import os\n",
    "from ctypes import *\n",
    "import ipywidgets as widgets\n",
    "from IPython.display import display\n",
    "from IPython.core.display import SVG\n",
    "from rich.jupyter import print\n",
    "import matplotlib.pyplot as plt\n",
    "%config InlineBackend.figure_format = \"svg\" # crisper plots\n",
    "import numpy as np\n",
    "import pandas as pd\n",
    "# import lmfit as lm\n",
    "\n",
    "from xmagix import XMagix\n",
    "from thetube import Tube\n",
    "\n",
    "tube = Tube()\n",
    "\n",
    "cwd = os.getcwd()\n",
    "xmagix = XMagix(\"lib/libhandel.so\")\n",
    "inifile = cwd + \"/microdxp_usb2.ini\"\n",
    "configfile = cwd + \"/config.ini\""
   ]
  },
  {
   "cell_type": "code",
   "execution_count": null,
   "metadata": {},
   "outputs": [],
   "source": [
    "#!~/klippy-env/bin/python ~/klipper/klippy/klippy.py ~/printer_data/config/printer.cfg -a /tmp/klippy_uds -l /tmp/klippy.log"
   ]
  },
  {
   "cell_type": "markdown",
   "metadata": {},
   "source": [
    "# Starting System and Initializing Parameters [🔝](#XMAGIX) <a id=\"init\"></a>"
   ]
  },
  {
   "cell_type": "markdown",
   "metadata": {},
   "source": [
    "Available Log Levels:\n",
    "```\n",
    "1:  MD_ERROR\n",
    "2:  MD_WARNING\n",
    "3:  MD_INFO\n",
    "4:  MD_DEBUG\n",
    "```\n",
    "\n",
    "Issue ``tail -f /tmp/xmagix.log`` in a separate shell for live viewing log output."
   ]
  },
  {
   "cell_type": "code",
   "execution_count": null,
   "metadata": {},
   "outputs": [],
   "source": [
    "xmagix.setLogging(4)\n",
    "xmagix.exit()\n",
    "xmagix.init(inifile)\n",
    "xmagix.startSystem()"
   ]
  },
  {
   "cell_type": "markdown",
   "metadata": {},
   "source": [
    "# Setting and Getting Parameters [🔝](#XMAGIX) <a id=\"setget\"></a>"
   ]
  },
  {
   "cell_type": "markdown",
   "metadata": {},
   "source": [
    "## Get all currently set acquisition values and board information [🔝](#XMAGIX) <a id=\"getvals\"></a>"
   ]
  },
  {
   "cell_type": "markdown",
   "metadata": {},
   "source": [
    "### Board Information [🔝](#XMAGIX) <a id=\"boardinfo\"></a>"
   ]
  },
  {
   "cell_type": "code",
   "execution_count": null,
   "metadata": {},
   "outputs": [],
   "source": [
    "binfo = xmagix.getBoardInformation()\n",
    "print(binfo)\n",
    "\n",
    "glow, ghi, gexpo = binfo[\"Gain (mantissa low byte)\"], binfo[\"Gain (mantissa high byte)\"], binfo[\"Gain (exponent)\"]\n",
    "mantissa = ghi << 8 | glow\n",
    "gain = (mantissa/32768)*2**gexpo\n",
    "print(f\"Gain: {gain}\")"
   ]
  },
  {
   "cell_type": "markdown",
   "metadata": {},
   "source": [
    "### Acquisition values [🔝](#XMAGIX) <a id=\"getacquisition\"></a>"
   ]
  },
  {
   "cell_type": "code",
   "execution_count": null,
   "metadata": {},
   "outputs": [],
   "source": [
    "values = xmagix.getAcquisitionValues(name=\"all\")\n",
    "values = pd.DataFrame(values.items(), columns=[\"Parameter\", \"Value\"])\n",
    "# print(values.sort_values(by=[\"Parameter\"]))\n",
    "print(values)"
   ]
  },
  {
   "cell_type": "markdown",
   "metadata": {},
   "source": [
    "### Set Acquisition Values [🔝](#XMAGIX) <a id=\"setacquisition\"></a>"
   ]
  },
  {
   "cell_type": "code",
   "execution_count": null,
   "metadata": {},
   "outputs": [],
   "source": [
    "params = {\n",
    "    \"parset\":     2.400000, # 2.000000\n",
    "    # \"genset\":     0.000000,\n",
    "    # \"fippi\":     0.000000,\n",
    "    \"clock_speed\":    40.000000,\n",
    "    \"energy_gap_time\":     0.300000, # 0.3\n",
    "    \"trigger_peak_time\":     0.050000,\n",
    "    \"trigger_gap_time\":     0.000000,\n",
    "    \"baseline_length\":     512.000000, # 512.000000\n",
    "    \"trigger_threshold\":   150.000000, # 100.000000\n",
    "    \"baseline_threshold\":   120.000000, # 120.000000\n",
    "    \"energy_threshold\":     0.000000, # 0.000000\n",
    "    \"peak_interval_offset\":     0.500000,\n",
    "    \"peak_sample_offset\":     0.000000,\n",
    "    \"max_width\":     0.400000,\n",
    "    \"peak_mode\":     0.000000,\n",
    "    \"peak_interval\":     0.500000,\n",
    "    \"peak_sample\":     0.000000,\n",
    "    \"polarity\":     1.000000,\n",
    "    \"preamp_value\":     1.000000, # reset interval in us\n",
    "    \"gain\":     4.484848, # 3.639965\n",
    "    \"gain_trim\":     1.000000, # 1.018982\n",
    "    \"preset_type\":     0.000000,\n",
    "    \"preset_value\":     0.000000,\n",
    "    \"number_mca_channels\":  8192.000000,\n",
    "    \"mca_bin_width\":     1.000000,\n",
    "    \"bytes_per_bin\":     3.000000,\n",
    "    \"adc_trace_wait\":     0.025000,\n",
    "    \"auto_adjust_offset\":     1.000000,\n",
    "    \"number_of_scas\":     0.000000,\n",
    "}\n",
    "xmagix.setParams(params)"
   ]
  },
  {
   "cell_type": "markdown",
   "metadata": {},
   "source": [
    "## Widgets [🔝](#XMAGIX) <a id=\"widgets\"></a>"
   ]
  },
  {
   "cell_type": "markdown",
   "metadata": {},
   "source": [
    "### Peaking Time, Bin Width and MCA-Channels [🔝](#XMAGIX) <a id=\"peaking\"></a>"
   ]
  },
  {
   "cell_type": "markdown",
   "metadata": {},
   "source": [
    "Get available peaking times"
   ]
  },
  {
   "cell_type": "code",
   "execution_count": null,
   "metadata": {},
   "outputs": [],
   "source": [
    "ccurrentPeakingTimes = xmagix.getNumberOfPeakingTimes()\n",
    "currentPeakingTimes = np.ctypeslib.as_array(ccurrentPeakingTimes)\n",
    "print(currentPeakingTimes)"
   ]
  },
  {
   "cell_type": "code",
   "execution_count": null,
   "metadata": {},
   "outputs": [],
   "source": [
    "idict = {\"manual\": True, \"manual_name\":\"Set\"}\n",
    "pt = widgets.interactive(xmagix.setAcquisitionValues, idict, name=widgets.fixed(\"parset\"), value=widgets.Dropdown(options=currentPeakingTimes.round(2).tolist(), value=2.4, description=\"Peaking Time\"))\n",
    "bw = widgets.interactive(xmagix.setAcquisitionValues, idict, name=widgets.fixed(\"mca_bin_width\"), value=widgets.FloatText(value=1, description=\"Bin Width\"))\n",
    "nMCA = widgets.interactive(xmagix.setAcquisitionValues, idict, name=widgets.fixed(\"number_mca_channels\"), value=widgets.FloatText(value=8192, description=\"No. MCA\"))\n",
    "ui1 = widgets.HBox([pt, bw, nMCA])\n",
    "ui1"
   ]
  },
  {
   "cell_type": "markdown",
   "metadata": {},
   "source": [
    "### Thresholds [🔝](#XMAGIX) <a id=\"thresh\"></a>"
   ]
  },
  {
   "cell_type": "markdown",
   "metadata": {},
   "source": [
    "```\n",
    "Trigger: 0-4095\n",
    "Baseline: 0-4095\n",
    "Energy: 0-4095\n",
    "```"
   ]
  },
  {
   "cell_type": "code",
   "execution_count": null,
   "metadata": {},
   "outputs": [],
   "source": [
    "th_trigger = widgets.interactive(xmagix.setAcquisitionValues, idict, name=widgets.fixed(\"trigger_threshold\"), value=widgets.FloatText(value=150, description=\"Trigger Thr.\"))\n",
    "th_baseline = widgets.interactive(xmagix.setAcquisitionValues, idict, name=widgets.fixed(\"baseline_threshold\"), value=widgets.FloatText(value=120, description=\"Baseline Thr.\"))\n",
    "th_energy = widgets.interactive(xmagix.setAcquisitionValues, idict, name=widgets.fixed(\"energy_threshold\"), value=widgets.FloatText(value=0, description=\"Energy Thr.\"))\n",
    "ui2 = widgets.HBox([th_trigger, th_baseline, th_energy])\n",
    "ui2"
   ]
  },
  {
   "cell_type": "markdown",
   "metadata": {},
   "source": [
    "### Gain [🔝](#XMAGIX) <a id=\"gain\"></a>"
   ]
  },
  {
   "cell_type": "markdown",
   "metadata": {},
   "source": [
    "$Base Gain = \\frac{1184}{DynRange[keV] \\cdot Preamp Gain [\\frac{mV}{keV}]}$\n",
    "\n",
    "Where DynRange is the maximum expected photon energy i.e. the set acceleration voltage.\n",
    "\n",
    "$Preamp Gain \\approx 6.6 \\frac{mV}{keV}$ is taken from the Technical Report.\n",
    "\n",
    "```\n",
    "Gain: 1-100 (4.4994)\n",
    "Gain Trim: 0.5-2.0 (-1)\n",
    "Gap Time: (0.3)\n",
    "```"
   ]
  },
  {
   "cell_type": "code",
   "execution_count": null,
   "metadata": {},
   "outputs": [],
   "source": [
    "gain = widgets.interactive(xmagix.setAcquisitionValues, idict, name=widgets.fixed(\"gain\"), value=widgets.FloatText(value=4.4994, description=\"Gain\"))\n",
    "gain_trim = widgets.interactive(xmagix.setAcquisitionValues, idict, name=widgets.fixed(\"gain_trim\"), value=widgets.FloatText(value=1, description=\"Gain Trim\"))\n",
    "gap_time = widgets.interactive(xmagix.setAcquisitionValues, idict, name=widgets.fixed(\"trigger_gap_time\"), value=widgets.FloatText(value=.3, description=\"Gap Time\"))\n",
    "ui3 = widgets.HBox([gain, gain_trim, gap_time])\n",
    "ui3"
   ]
  },
  {
   "cell_type": "markdown",
   "metadata": {},
   "source": [
    "# X-Ray Source Control [🔝](#XMAGIX) <a id=\"source\"></a>"
   ]
  },
  {
   "cell_type": "markdown",
   "metadata": {},
   "source": [
    "## Setting HV and Filament Current [🔝](#XMAGIX) <a id=\"write\"></a>"
   ]
  },
  {
   "cell_type": "code",
   "execution_count": null,
   "metadata": {},
   "outputs": [],
   "source": [
    "tube.setHV(20)\n",
    "tube.setI(600)"
   ]
  },
  {
   "cell_type": "markdown",
   "metadata": {},
   "source": [
    "## Reading back HV and Filament Current [🔝](#XMAGIX) <a id=\"read\"></a>"
   ]
  },
  {
   "cell_type": "code",
   "execution_count": null,
   "metadata": {},
   "outputs": [],
   "source": [
    "HV = tube.read(0)\n",
    "I = tube.read(1)\n",
    "print(f\"{HV[1]:.1f} kV ({HV[0]})\\n{I[1]:.1f} uA ({I[0]})\")"
   ]
  },
  {
   "cell_type": "markdown",
   "metadata": {},
   "source": [
    "## Enable/Disable [🔝](#XMAGIX) <a id=\"enabledisable\"></a>"
   ]
  },
  {
   "cell_type": "code",
   "execution_count": null,
   "metadata": {},
   "outputs": [],
   "source": [
    "tube.enable()"
   ]
  },
  {
   "cell_type": "code",
   "execution_count": null,
   "metadata": {},
   "outputs": [],
   "source": [
    "tube.disable()"
   ]
  },
  {
   "cell_type": "markdown",
   "metadata": {},
   "source": [
    "# Starting and Stopping a Run [🔝](#XMAGIX) <a id=\"startstop\"></a>"
   ]
  },
  {
   "cell_type": "markdown",
   "metadata": {},
   "source": [
    "## Pick preset type [🔝](#XMAGIX) <a id=\"pick\"></a>\n",
    "\n",
    "```\n",
    "0.0: NONE\n",
    "1.0: FIXED REAL\n",
    "2.0: FIXED LIVE\n",
    "3.0: FIXED EVENTS\n",
    "4.0: FIXED TRIGGERS\n",
    "```"
   ]
  },
  {
   "cell_type": "code",
   "execution_count": null,
   "metadata": {},
   "outputs": [],
   "source": [
    "xmagix.setAcquisitionValues(\"preset_type\", 0.0)\n",
    "xmagix.startRun(clearMca=True)"
   ]
  },
  {
   "cell_type": "code",
   "execution_count": null,
   "metadata": {},
   "outputs": [],
   "source": [
    "xmagix.stopRun()"
   ]
  },
  {
   "cell_type": "markdown",
   "metadata": {},
   "source": [
    "## Fixed Realtime Run [🔝](#XMAGIX) <a id=\"fixedreal\"></a>"
   ]
  },
  {
   "cell_type": "code",
   "execution_count": null,
   "metadata": {},
   "outputs": [],
   "source": [
    "tube.enable()\n",
    "xmagix.fixedRealtimeRun(realtime=30, clearMca=True)\n",
    "tube.disable()"
   ]
  },
  {
   "cell_type": "markdown",
   "metadata": {},
   "source": [
    "# Pull Data and Plot [🔝](#XMAGIX) <a id=\"pull\"></a>"
   ]
  },
  {
   "cell_type": "code",
   "execution_count": null,
   "metadata": {},
   "outputs": [],
   "source": [
    "mca = xmagix.pullMcaData()"
   ]
  },
  {
   "cell_type": "code",
   "execution_count": null,
   "metadata": {},
   "outputs": [],
   "source": [
    "plt.style.use(\"default\")\n",
    "plt.style.use(\"dark_background\")\n",
    "cm = 1/2.54 # inch to cm\n",
    "size = 60\n",
    "\n",
    "Fe = [6.40384, 6.39084, 7.05798]\n",
    "Co = [6.93, 6.92, 7.65]\n",
    "W = [59.32, 57.98, 67.24, 8.4, 8.34, 9.67, 9.96, 11.29, 1.78]\n",
    "Cu = [8.05, 8.03, 8.91]\n",
    "Zn = [8.64, 8.62, 9.57]\n",
    "\n",
    "titles = [f\"nMCA {len(mca)}\", \"Energy / keV\", \"Counts\"]\n",
    "fig, ax = plt.subplots(1, 1, figsize=(40*cm, 25*(9/16)*cm))\n",
    "# x = np.arange(0, len(mca), 1)\n",
    "x = np.linspace(0, 40, len(mca))\n",
    "y = np.vstack([mca])\n",
    "for line in W:\n",
    "    ax.axvline(x=line, color=\"red\", ls=\"-\", lw=1)\n",
    "for line in Cu:\n",
    "    ax.axvline(x=line, color=\"orange\", ls=\":\", lw=1)\n",
    "for line in Zn:\n",
    "    ax.axvline(x=line, color=\"grey\", ls=\":\", lw=1)\n",
    "for line in Fe:\n",
    "    ax.axvline(x=line, color=\"grey\", ls=\"--\", lw=1)\n",
    "ax.stackplot(x, y, labels=[\"Steel\"])\n",
    "ax.set(xlabel=titles[1], ylabel=titles[2], xlim=[x.min(), x.max()])\n",
    "ax.set_yscale(\"log\")\n",
    "ax.legend()\n",
    "plt.tight_layout()\n",
    "\n",
    "if not os.path.exists(\"./tmp/\"):\n",
    "    os.makedirs(\"./tmp/\") \n",
    "plt.savefig(\"./tmp/plot.svg\")\n",
    "plt.savefig(\"./tmp/plot.png\")\n",
    "# SVG(\"./tmp/plot.svg\")"
   ]
  },
  {
   "cell_type": "markdown",
   "metadata": {},
   "source": [
    "## Happy with your Spectrum? [🔝](#XMAGIX) <a id=\"happy\"></a>\n",
    "\n",
    "Run below cell and input a name when prompted."
   ]
  },
  {
   "cell_type": "code",
   "execution_count": null,
   "metadata": {},
   "outputs": [],
   "source": [
    "csvPath = input()\n",
    "# csvPath = \"Pb_XRF\"\n",
    "sv_values = xmagix.getAcquisitionValues(name=\"all\")\n",
    "sv_values = pd.DataFrame(sv_values.items(), columns=[\"Parameter\", \"Value\"])\n",
    "if not os.path.exists(f\"./{csvPath}\"):\n",
    "    os.makedirs(f\"./{csvPath}\")\n",
    "os.rename(\"./tmp/plot.svg\", f\"./{csvPath}/{csvPath}.svg\")\n",
    "os.rename(\"./tmp/plot.png\", f\"./{csvPath}/{csvPath}.png\")\n",
    "with open(f\"./{csvPath}/{csvPath}.csv\", \"x\") as f:\n",
    "    sv_values.to_csv(f, sep=\";\", index=False)\n",
    "    mcapd = pd.DataFrame(mca)\n",
    "    f.write(\"BEGIN_OF_DATA\")\n",
    "    mcapd.to_csv(f, sep=\";\")\n",
    "    f.write(\"END_OF_DATA\")"
   ]
  }
 ],
 "metadata": {
  "kernelspec": {
   "display_name": "xmagix",
   "language": "python",
   "name": "python3"
  },
  "language_info": {
   "codemirror_mode": {
    "name": "ipython",
    "version": 3
   },
   "file_extension": ".py",
   "mimetype": "text/x-python",
   "name": "python",
   "nbconvert_exporter": "python",
   "pygments_lexer": "ipython3",
   "version": "3.9.18"
  }
 },
 "nbformat": 4,
 "nbformat_minor": 4
}
